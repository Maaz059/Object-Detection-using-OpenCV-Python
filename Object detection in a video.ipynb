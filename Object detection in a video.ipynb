{
 "cells": [
  {
   "cell_type": "code",
   "execution_count": 1,
   "metadata": {},
   "outputs": [],
   "source": [
    "import cv2\n",
    "import numpy as np\n",
    "\n",
    "nms_threshold = 0.45\n",
    "\n",
    "cap = cv2.VideoCapture(0)\n",
    "# cap.set(3,1280)\n",
    "# cap.set(4,720)\n",
    "# cap.set(10,150)\n",
    "\n",
    "classNames= []\n",
    "classFile = 'coco.names'\n",
    "with open(classFile,'rt') as f:\n",
    "    classNames = f.read().rstrip('\\n').split('\\n')\n",
    "\n",
    "#print(classNames)\n",
    "\n",
    "configPath = 'ssd_mobilenet_v3_large_coco_2020_01_14.pbtxt'\n",
    "weightsPath = 'frozen_inference_graph.pb'\n",
    "\n",
    "net = cv2.dnn_DetectionModel(weightsPath,configPath)\n",
    "net.setInputSize(320,320)\n",
    "net.setInputScale(1.0/ 127.5)\n",
    "net.setInputMean((127.5, 127.5, 127.5))\n",
    "net.setInputSwapRB(True)\n",
    "\n",
    "while True:\n",
    "    success,img = cap.read()\n",
    "    classIds, confs, bbox = net.detect(img, confThreshold = 0.50)\n",
    "    bbox = list(bbox)\n",
    "    confs = list(np.array(confs).reshape(1,-1)[0])\n",
    "    confs = list(map(float,confs))\n",
    "    #print(type(confs[0]))\n",
    "    #print(confs)\n",
    "\n",
    "    indices = cv2.dnn.NMSBoxes(bbox,confs,0.50,nms_threshold)\n",
    "    #print(indices)\n",
    "\n",
    "    for i in indices:\n",
    "        i = i[0]\n",
    "        box = bbox[i]\n",
    "        x,y,w,h = box[0],box[1],box[2],box[3]\n",
    "        cv2.rectangle(img, (x,y),(x+w,h+y), color=(0, 255, 0), thickness=2)\n",
    "        cv2.putText(img,classNames[classIds[i][0]-1].upper(),(box[0]+10,box[1]+30),\n",
    "        cv2.FONT_HERSHEY_COMPLEX,1,(0,255,0),2)\n",
    "\n",
    "    cv2.imshow('Output',img)\n",
    "    key = cv2.waitKey(1)\n",
    "    if key == ord('q'):\n",
    "        break\n",
    "\n",
    "cap.release()\n",
    "cv2.destroyAllWindows()"
   ]
  },
  {
   "cell_type": "code",
   "execution_count": null,
   "metadata": {},
   "outputs": [],
   "source": []
  }
 ],
 "metadata": {
  "kernelspec": {
   "display_name": "Python 3",
   "language": "python",
   "name": "python3"
  },
  "language_info": {
   "codemirror_mode": {
    "name": "ipython",
    "version": 3
   },
   "file_extension": ".py",
   "mimetype": "text/x-python",
   "name": "python",
   "nbconvert_exporter": "python",
   "pygments_lexer": "ipython3",
   "version": "3.7.4"
  }
 },
 "nbformat": 4,
 "nbformat_minor": 2
}
