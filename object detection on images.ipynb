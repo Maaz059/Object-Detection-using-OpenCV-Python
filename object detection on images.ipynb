{
 "cells": [
  {
   "cell_type": "markdown",
   "metadata": {},
   "source": [
    "### Object Detection using OpenCV-Python "
   ]
  },
  {
   "cell_type": "code",
   "execution_count": 9,
   "metadata": {},
   "outputs": [],
   "source": [
    "import cv2\n",
    "import numpy as np"
   ]
  },
  {
   "cell_type": "code",
   "execution_count": 10,
   "metadata": {},
   "outputs": [],
   "source": [
    "img = cv2.imread('img2.jpg')"
   ]
  },
  {
   "cell_type": "code",
   "execution_count": 11,
   "metadata": {},
   "outputs": [],
   "source": [
    "classNames = []\n",
    "classFile = 'coco.names'\n",
    "with open(classFile,'rt') as f:\n",
    "    classNames = f.read().rstrip('\\n').split('\\n')"
   ]
  },
  {
   "cell_type": "code",
   "execution_count": 12,
   "metadata": {},
   "outputs": [
    {
     "name": "stdout",
     "output_type": "stream",
     "text": [
      "['person', 'bicycle', 'car', 'motorcycle', 'airplane', 'bus', 'train', 'truck', 'boat', 'traffic light', 'fire hydrant', 'street sign', 'stop sign', 'parking meter', 'bench', 'bird', 'cat', 'dog', 'horse', 'sheep', 'cow', 'elephant', 'bear', 'zebra', 'giraffe', 'hat', 'backpack', 'umbrella', 'shoe', 'eye glasses', 'handbag', 'tie', 'suitcase', 'frisbee', 'skis', 'snowboard', 'sports ball', 'kite', 'baseball bat', 'baseball glove', 'skateboard', 'surfboard', 'tennis racket', 'bottle', 'plate', 'wine glass', 'cup', 'fork', 'knife', 'spoon', 'bowl', 'banana', 'apple', 'sandwich', 'orange', 'broccoli', 'carrot', 'hot dog', 'pizza', 'donut', 'cake', 'chair', 'couch', 'potted plant', 'bed', 'mirror', 'dining table', 'window', 'desk', 'toilet', 'door', 'tv', 'laptop', 'mouse', 'remote', 'keyboard', 'cell phone', 'microwave', 'oven', 'toaster', 'sink', 'refrigerator', 'blender', 'book', 'clock', 'vase', 'scissors', 'teddy bear', 'hair drier', 'toothbrush', 'hair brush']\n"
     ]
    }
   ],
   "source": [
    "print(classNames)"
   ]
  },
  {
   "cell_type": "code",
   "execution_count": 13,
   "metadata": {},
   "outputs": [],
   "source": [
    "# loading our weights and config files path into variables\n",
    "configPath = 'ssd_mobilenet_v3_large_coco_2020_01_14.pbtxt'\n",
    "weightsPath = 'frozen_inference_graph.pb'"
   ]
  },
  {
   "cell_type": "code",
   "execution_count": 14,
   "metadata": {},
   "outputs": [
    {
     "data": {
      "text/plain": [
       "<dnn_Model 000001B529EB1EB0>"
      ]
     },
     "execution_count": 14,
     "metadata": {},
     "output_type": "execute_result"
    }
   ],
   "source": [
    "# setting up our model with DNN module\n",
    "net = cv2.dnn_DetectionModel(weightsPath,configPath) #loading file paths\n",
    "net.setInputSize(320,320) #changing the size of the image frame\n",
    "net.setInputScale(1.0/ 127.5) # scaling by a factor of 1/127.5 = 0.00784\n",
    "net.setInputMean((127.5, 127.5, 127.5)) # mean subtraction\n",
    "net.setInputSwapRB(True)"
   ]
  },
  {
   "cell_type": "code",
   "execution_count": 15,
   "metadata": {},
   "outputs": [
    {
     "name": "stdout",
     "output_type": "stream",
     "text": [
      "[[3]\n",
      " [1]\n",
      " [1]\n",
      " [3]\n",
      " [3]\n",
      " [1]\n",
      " [1]\n",
      " [1]\n",
      " [1]\n",
      " [8]] [[0.70080125]\n",
      " [0.68650836]\n",
      " [0.67390025]\n",
      " [0.6460168 ]\n",
      " [0.6257855 ]\n",
      " [0.6153716 ]\n",
      " [0.60868055]\n",
      " [0.60698396]\n",
      " [0.57177645]\n",
      " [0.51644576]] [[ 61  58  53  42]\n",
      " [274  62  11  23]\n",
      " [289  63  10  22]\n",
      " [125  60  20  16]\n",
      " [110  59  24  18]\n",
      " [260  60  12  24]\n",
      " [191  51  22  58]\n",
      " [214  44  34  70]\n",
      " [153  51  30  63]\n",
      " [ 61  57  54  42]]\n"
     ]
    }
   ],
   "source": [
    "classIds, confs, bbox = net.detect(img, confThreshold=0.5) # Threshold set to 50%\n",
    "print(classIds, confs, bbox)"
   ]
  },
  {
   "cell_type": "code",
   "execution_count": 16,
   "metadata": {},
   "outputs": [],
   "source": [
    "# In this we iterate through the classID, confidence and bounding box values to draw a rectangle box\n",
    "# on the screen and insert a text pertaining to the classID of the object detected\n",
    "\n",
    "if len(classIds) != 0:\n",
    "    for classId, confidence, box in zip(classIds.flatten(),confs.flatten(),bbox):\n",
    "        cv2.rectangle(img, box, color=(0,255,0), thickness=2)\n",
    "        # inserts a bounding box\n",
    "        \n",
    "        cv2.putText(img, classNames[classId-1].upper(),(box[0]+10,box[1]+30),\n",
    "        cv2.FONT_HERSHEY_COMPLEX,1,(0,255,0),2)\n",
    "        \n",
    "        cv2.putText(img,str(round(confidence*100,2)),(box[0]+200,box[1]+30),\n",
    "        cv2.FONT_HERSHEY_COMPLEX,1,(0,255,0),2)\n",
    "        #inserts classID and cofidence % \n",
    "        "
   ]
  },
  {
   "cell_type": "code",
   "execution_count": 17,
   "metadata": {},
   "outputs": [
    {
     "data": {
      "text/plain": [
       "-1"
      ]
     },
     "execution_count": 17,
     "metadata": {},
     "output_type": "execute_result"
    }
   ],
   "source": [
    "cv2.imshow('output', img)\n",
    "cv2.waitKey(0)"
   ]
  },
  {
   "cell_type": "code",
   "execution_count": null,
   "metadata": {},
   "outputs": [],
   "source": []
  }
 ],
 "metadata": {
  "kernelspec": {
   "display_name": "Python 3",
   "language": "python",
   "name": "python3"
  },
  "language_info": {
   "codemirror_mode": {
    "name": "ipython",
    "version": 3
   },
   "file_extension": ".py",
   "mimetype": "text/x-python",
   "name": "python",
   "nbconvert_exporter": "python",
   "pygments_lexer": "ipython3",
   "version": "3.7.4"
  }
 },
 "nbformat": 4,
 "nbformat_minor": 2
}
